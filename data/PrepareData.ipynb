{
 "cells": [
  {
   "cell_type": "code",
   "execution_count": 2,
   "metadata": {
    "collapsed": false
   },
   "outputs": [
    {
     "name": "stdout",
     "output_type": "stream",
     "text": [
      "Populating the interactive namespace from numpy and matplotlib\n"
     ]
    }
   ],
   "source": [
    "import matplotlib.pyplot as plt\n",
    "from scipy.misc import imresize #, imread, imshow\n",
    "import cv2\n",
    "%pylab inline \n",
    "from IPython.display import clear_output"
   ]
  },
  {
   "cell_type": "code",
   "execution_count": 6,
   "metadata": {
    "collapsed": true
   },
   "outputs": [],
   "source": [
    "path = '../../haar_cascade/'"
   ]
  },
  {
   "cell_type": "code",
   "execution_count": 7,
   "metadata": {
    "collapsed": true
   },
   "outputs": [],
   "source": [
    "IMAGES = []\n",
    "LABELS = []"
   ]
  },
  {
   "cell_type": "markdown",
   "metadata": {},
   "source": [
    "## Load everything to the memory\n",
    "\n",
    "File `good.dat` is a text file each line of which has \n",
    "\n",
    "* `FileName.jpeg`: of a picture with a cross on it\n",
    "\n",
    "* `c`: is a number of crosses on the pic (always 1 for good.dat)\n",
    "\n",
    "* `x1 y1 x2 y2`: are coordinates of top left corner and bottom right corner where the cross is\n",
    "\n",
    "All the pics have size (480 x 640)"
   ]
  },
  {
   "cell_type": "code",
   "execution_count": 8,
   "metadata": {
    "collapsed": false
   },
   "outputs": [
    {
     "name": "stdout",
     "output_type": "stream",
     "text": [
      "bad/non-cross2290.jpg\n",
      "Done\n",
      "4448\n",
      "4448\n"
     ]
    }
   ],
   "source": [
    "# new image size is 10 times smaller\n",
    "# otherwise it's too big, also pointless\n",
    "image_size = (480, 640)\n",
    "dev = 10\n",
    "image_size = tuple(int(x/dev) for x in image_size)\n",
    "\n",
    "with open(path+'good.dat') as file:\n",
    "    LINES = file.readlines()\n",
    "for line in LINES:\n",
    "    filename,c,x,y,x2,y2 = line.strip().split(' ')\n",
    "    split = line.strip().split(' ')\n",
    "    filename = split[0]\n",
    "    c = int(split[1])\n",
    "    param = [int(int(x)/dev) for x in split[2:]]\n",
    "    LABELS.append((c, *param))\n",
    "    # reading and resizing the image \n",
    "    image = cv2.imread(path+filename)\n",
    "    image = imresize(image, image_size)\n",
    "    IMAGES.append(image)\n",
    "    print('\\r' + filename, end='')\n",
    "    \n",
    "with open(path+'bad.dat') as file:\n",
    "    LINES = file.readlines()\n",
    "for line in LINES:\n",
    "    filename = line.strip()\n",
    "    # labels filled with `0`: no cross\n",
    "    LABELS.append((0,0,0,0,0))\n",
    "    # reading and resizing the image\n",
    "    image = cv2.imread(path+filename)\n",
    "    image = imresize(image, image_size)\n",
    "    IMAGES.append(image)\n",
    "    print('\\r' + filename, end='')\n",
    "print('\\nDone')\n",
    "# at this point I have list of IMAGES and LABELS (c, x1, y1, x2, y2)\n",
    "print(len(IMAGES))\n",
    "print(len(LABELS))"
   ]
  },
  {
   "cell_type": "markdown",
   "metadata": {},
   "source": [
    "## Visualization of what's inside"
   ]
  },
  {
   "cell_type": "code",
   "execution_count": 14,
   "metadata": {
    "collapsed": true
   },
   "outputs": [],
   "source": [
    "def show_image(num):\n",
    "    frame = IMAGES[num]\n",
    "    title(\"Input Stream\")\n",
    "    # Display the frame    \n",
    "    frame = cv2.cvtColor(frame, cv2.COLOR_BGR2RGB)\n",
    "    c,x1,y1,x2,y2 = LABELS[num]\n",
    "    if c > 0:\n",
    "        frame = cv2.rectangle(frame, (x1,y1), (x2,y2), (0, 255, 0))\n",
    "    imshow(frame)\n",
    "    show()\n",
    "    print('\\r{:04d}:({} {}) ({} {})'.format(num, x1, y1, x2, y2), end='')\n",
    "    clear_output(wait=True)"
   ]
  },
  {
   "cell_type": "code",
   "execution_count": 15,
   "metadata": {
    "collapsed": false
   },
   "outputs": [
    {
     "data": {
      "image/png": "[encoded data removed]",
      "text/plain": [
       "<matplotlib.figure.Figure at 0x1b4868e0128>"
      ]
     },
     "metadata": {},
     "output_type": "display_data"
    },
    {
     "name": "stdout",
     "output_type": "stream",
     "text": [
      "\r",
      "0089:(28 24) (39 36)"
     ]
    }
   ],
   "source": [
    "for x in range (len(IMAGES)):\n",
    "    try:\n",
    "        show_image(x)\n",
    "    except KeyboardInterrupt:\n",
    "        clear_output(wait=False)\n",
    "        show_image(x)\n",
    "        break"
   ]
  },
  {
   "cell_type": "code",
   "execution_count": 10,
   "metadata": {
    "collapsed": false
   },
   "outputs": [],
   "source": [
    "X = np.array((IMAGES, LABELS))"
   ]
  },
  {
   "cell_type": "code",
   "execution_count": 11,
   "metadata": {
    "collapsed": false
   },
   "outputs": [],
   "source": [
    "np.save('data.npy', X)"
   ]
  },
  {
   "cell_type": "code",
   "execution_count": 17,
   "metadata": {
    "collapsed": true
   },
   "outputs": [],
   "source": [
    "X = np.array(IMAGES, dtype=np.int)\n",
    "Y = np.array(LABELS)"
   ]
  },
  {
   "cell_type": "code",
   "execution_count": 18,
   "metadata": {
    "collapsed": false
   },
   "outputs": [
    {
     "ename": "ValueError",
     "evalue": "could not broadcast input array from shape (4448,48,64,3) into shape (4448)",
     "output_type": "error",
     "traceback": [
      "\u001b[0;31m---------------------------------------------------------------------------\u001b[0m",
      "\u001b[0;31mValueError\u001b[0m                                Traceback (most recent call last)",
      "\u001b[0;32m<ipython-input-18-21698795fbe1>\u001b[0m in \u001b[0;36m<module>\u001b[0;34m()\u001b[0m\n\u001b[0;32m----> 1\u001b[0;31m \u001b[0mO\u001b[0m \u001b[1;33m=\u001b[0m \u001b[0mnp\u001b[0m\u001b[1;33m.\u001b[0m\u001b[0marray\u001b[0m\u001b[1;33m(\u001b[0m\u001b[1;33m(\u001b[0m\u001b[0mX\u001b[0m\u001b[1;33m,\u001b[0m \u001b[0mY\u001b[0m\u001b[1;33m)\u001b[0m\u001b[1;33m)\u001b[0m\u001b[1;33m\u001b[0m\u001b[0m\n\u001b[0m\u001b[1;32m      2\u001b[0m \u001b[0mprint\u001b[0m\u001b[1;33m(\u001b[0m\u001b[0mX\u001b[0m\u001b[1;33m.\u001b[0m\u001b[0mshape\u001b[0m\u001b[1;33m,\u001b[0m \u001b[0mO\u001b[0m\u001b[1;33m.\u001b[0m\u001b[0mshape\u001b[0m\u001b[1;33m)\u001b[0m\u001b[1;33m\u001b[0m\u001b[0m\n",
      "\u001b[0;31mValueError\u001b[0m: could not broadcast input array from shape (4448,48,64,3) into shape (4448)"
     ]
    }
   ],
   "source": [
    "O = np.array((X, Y))\n",
    "print(X.shape, O.shape)"
   ]
  },
  {
   "cell_type": "code",
   "execution_count": 12,
   "metadata": {
    "collapsed": false
   },
   "outputs": [
    {
     "name": "stdout",
     "output_type": "stream",
     "text": [
      "(2, 4448)\n"
     ]
    }
   ],
   "source": [
    "print(X.shape)"
   ]
  }
 ],
 "metadata": {
  "kernelspec": {
   "display_name": "Python 3",
   "language": "python",
   "name": "python3"
  },
  "language_info": {
   "codemirror_mode": {
    "name": "ipython",
    "version": 3
   },
   "file_extension": ".py",
   "mimetype": "text/x-python",
   "name": "python",
   "nbconvert_exporter": "python",
   "pygments_lexer": "ipython3",
   "version": "3.5.2"
  }
 },
 "nbformat": 4,
 "nbformat_minor": 2
}
